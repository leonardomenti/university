{
 "cells": [
  {
   "cell_type": "code",
   "execution_count": 25,
   "id": "2b9ca077",
   "metadata": {},
   "outputs": [],
   "source": [
    "import hashlib"
   ]
  },
  {
   "cell_type": "code",
   "execution_count": 9,
   "id": "11f7b1bb",
   "metadata": {},
   "outputs": [],
   "source": [
    "def get_dataset_by_date(y, m, d):\n",
    "    return sc.textFile(\"Lab002_\" + str(y) + str(m) + str(d) + \".csv\")"
   ]
  },
  {
   "cell_type": "code",
   "execution_count": 21,
   "id": "df38517d",
   "metadata": {},
   "outputs": [
    {
     "data": {
      "text/plain": [
       "'LGORT,MATNR,MEINS,MENGE'"
      ]
     },
     "execution_count": 21,
     "metadata": {},
     "output_type": "execute_result"
    }
   ],
   "source": [
    "msegRDD = get_dataset_by_date(2021, 11, 21)\n",
    "header = msegRDD.first()\n",
    "header"
   ]
  },
  {
   "cell_type": "code",
   "execution_count": 22,
   "id": "9477b58a",
   "metadata": {},
   "outputs": [
    {
     "data": {
      "text/plain": [
       "'PR08,9660906,ZT,8'"
      ]
     },
     "execution_count": 22,
     "metadata": {},
     "output_type": "execute_result"
    }
   ],
   "source": [
    "msegRDD = msegRDD.filter(lambda x: x != header)\n",
    "msegRDD.first()"
   ]
  },
  {
   "cell_type": "markdown",
   "id": "95f20330",
   "metadata": {},
   "source": [
    "### dictionary"
   ]
  },
  {
   "cell_type": "code",
   "execution_count": 24,
   "id": "68db8af5",
   "metadata": {},
   "outputs": [
    {
     "data": {
      "text/plain": [
       "{'LGORT': 'PR08', 'MATNR': '9660906', 'MEINS': 'ZT', 'MENGE': '8'}"
      ]
     },
     "execution_count": 24,
     "metadata": {},
     "output_type": "execute_result"
    }
   ],
   "source": [
    "msegRDD = msegRDD.map(lambda x: x.split(','))\\\n",
    "    .map(lambda x: {\n",
    "        'LGORT' : x[0],\n",
    "        'MATNR' : x[1],\n",
    "        'MEINS': x[2],\n",
    "        'MENGE': x[3]\n",
    "})\n",
    "msegRDD.first()"
   ]
  },
  {
   "cell_type": "code",
   "execution_count": 51,
   "id": "00c6435b",
   "metadata": {},
   "outputs": [
    {
     "data": {
      "text/plain": [
       "'ba7816bf8f01cfea414140de5dae2223b00361a396177a9cb410ff61f20015ad'"
      ]
     },
     "execution_count": 51,
     "metadata": {},
     "output_type": "execute_result"
    }
   ],
   "source": [
    "h = hashlib.sha256(b\"abc\")\n",
    "h.hexdigest()"
   ]
  },
  {
   "cell_type": "markdown",
   "id": "53a71b82",
   "metadata": {},
   "source": [
    "### hashing the rdd"
   ]
  },
  {
   "cell_type": "code",
   "execution_count": 53,
   "id": "09ad3372",
   "metadata": {},
   "outputs": [],
   "source": [
    "def hashRDD(rdd):\n",
    "    header = rdd.first()\n",
    "    hRDD = rdd.filter(lambda x: x != header)\n",
    "\n",
    "    return hRDD.map(lambda x: hashlib.sha256(x.encode()).hexdigest())"
   ]
  },
  {
   "cell_type": "code",
   "execution_count": null,
   "id": "0dd6c677",
   "metadata": {},
   "outputs": [],
   "source": [
    "hRDD1 = hashRDD(sc.parallelize(get_dataset_by_date(2021, 11, 23).take(1000)))\n",
    "hRDD2 = hashRDD(sc.parallelize(get_dataset_by_date(2021, 11, 24).take(1000)))"
   ]
  },
  {
   "cell_type": "code",
   "execution_count": null,
   "id": "41a8e7f9",
   "metadata": {},
   "outputs": [],
   "source": [
    "[hRDD1.foreach(lambda y:  print(x) if x == y else None) for x in hRDD2.collect()]"
   ]
  }
 ],
 "metadata": {
  "kernelspec": {
   "display_name": "Python 3 (ipykernel)",
   "language": "python",
   "name": "python3"
  },
  "language_info": {
   "codemirror_mode": {
    "name": "ipython",
    "version": 3
   },
   "file_extension": ".py",
   "mimetype": "text/x-python",
   "name": "python",
   "nbconvert_exporter": "python",
   "pygments_lexer": "ipython3",
   "version": "3.9.10"
  }
 },
 "nbformat": 4,
 "nbformat_minor": 5
}
