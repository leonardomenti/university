{
 "cells": [
  {
   "cell_type": "code",
   "execution_count": 109,
   "id": "faf44667",
   "metadata": {},
   "outputs": [],
   "source": [
    "from datetime import datetime"
   ]
  },
  {
   "cell_type": "markdown",
   "id": "ea12eaf1",
   "metadata": {},
   "source": [
    "## McStatus"
   ]
  },
  {
   "cell_type": "code",
   "execution_count": 125,
   "id": "0e378cee",
   "metadata": {},
   "outputs": [],
   "source": [
    "msRDD = sc.textFile('McStatus.csv')"
   ]
  },
  {
   "cell_type": "code",
   "execution_count": 126,
   "id": "53576fe1",
   "metadata": {},
   "outputs": [
    {
     "data": {
      "text/plain": [
       "'McID,StatusID,TimeStamp'"
      ]
     },
     "execution_count": 126,
     "metadata": {},
     "output_type": "execute_result"
    }
   ],
   "source": [
    "header = msRDD.first()\n",
    "\n",
    "header"
   ]
  },
  {
   "cell_type": "code",
   "execution_count": 127,
   "id": "7082a8c9",
   "metadata": {},
   "outputs": [
    {
     "data": {
      "text/plain": [
       "'Machine_4,3,2018-03-11T16:13:51.180Z'"
      ]
     },
     "execution_count": 127,
     "metadata": {},
     "output_type": "execute_result"
    }
   ],
   "source": [
    "msRDD = msRDD.filter(lambda x: x!=header)\n",
    "msRDD.first()"
   ]
  },
  {
   "cell_type": "code",
   "execution_count": 113,
   "id": "b2c49809",
   "metadata": {},
   "outputs": [],
   "source": [
    "def format_date(d):\n",
    "    l = d.split('T')\n",
    "    date = l[0]\n",
    "    time = l[1]\n",
    "    date_list = date.split('-')\n",
    "    time_list = time.split('Z')[0].split(':')\n",
    "    seconds_milliseconds = time_list[2].split('.')\n",
    "    del time_list[-1]\n",
    "    \n",
    "    integer_map = map(int, date_list + time_list + seconds_milliseconds)\n",
    "    date_list = list(integer_map)\n",
    "    \n",
    "    return datetime(*date_list)"
   ]
  },
  {
   "cell_type": "markdown",
   "id": "7b41ffd3",
   "metadata": {},
   "source": [
    "### dictionary"
   ]
  },
  {
   "cell_type": "code",
   "execution_count": 128,
   "id": "89d693e9",
   "metadata": {},
   "outputs": [
    {
     "data": {
      "text/plain": [
       "{'McID': 'Machine_4', 'TimeStamp': '2018-03-11T16:13:51.180Z', 'McStatus': '3'}"
      ]
     },
     "execution_count": 128,
     "metadata": {},
     "output_type": "execute_result"
    }
   ],
   "source": [
    "msRDD = msRDD.map(lambda x: x.split(','))\\\n",
    "    .map(lambda x: {\n",
    "        'McID' : x[0],\n",
    "        'TimeStamp' : x[2],\n",
    "        'McStatus' : x[1]\n",
    "    })\n",
    "msRDD.first()"
   ]
  },
  {
   "cell_type": "code",
   "execution_count": 129,
   "id": "284ebd75",
   "metadata": {},
   "outputs": [
    {
     "data": {
      "text/plain": [
       "('Machine_4', (datetime.datetime(2018, 3, 11, 16, 13, 51, 180), '3'))"
      ]
     },
     "execution_count": 129,
     "metadata": {},
     "output_type": "execute_result"
    }
   ],
   "source": [
    "pmsRDD = msRDD.map(lambda x: (x['McID'], (x['TimeStamp'], x['McStatus'])))\\\n",
    "    .mapValues(lambda x: (format_date(x[0]), x[1]))\n",
    "pmsRDD.first()"
   ]
  },
  {
   "cell_type": "markdown",
   "id": "449bf329",
   "metadata": {},
   "source": [
    "### oldest and newest"
   ]
  },
  {
   "cell_type": "code",
   "execution_count": 116,
   "id": "81baae44",
   "metadata": {},
   "outputs": [
    {
     "name": "stdout",
     "output_type": "stream",
     "text": [
      "Oldest:  Machine_2 01/01/2018, 00:16:26\n",
      "Newest:  Machine_1 10/04/2018, 06:54:13\n"
     ]
    }
   ],
   "source": [
    "oldest = pmsRDD.reduce(lambda x,y: x if x[1][0] < y[1][0] else y)\n",
    "newest = pmsRDD.reduce(lambda x,y: x if x[1][0] > y[1][0] else y)\n",
    "print(\"Oldest: \", oldest[0], oldest[1][0].strftime(\"%d/%m/%Y, %H:%M:%S\"))\n",
    "print(\"Newest: \", newest[0], newest[1][0].strftime(\"%d/%m/%Y, %H:%M:%S\"))"
   ]
  },
  {
   "cell_type": "markdown",
   "id": "ed86e706",
   "metadata": {},
   "source": [
    "### keep only data from 15 of Jannuary 2018"
   ]
  },
  {
   "cell_type": "code",
   "execution_count": 117,
   "id": "5455b678",
   "metadata": {},
   "outputs": [
    {
     "data": {
      "text/plain": [
       "86931"
      ]
     },
     "execution_count": 117,
     "metadata": {},
     "output_type": "execute_result"
    }
   ],
   "source": [
    "pmsRDD.filter(lambda x: x[1][0] > datetime(2018, 1, 15)).count()"
   ]
  },
  {
   "cell_type": "markdown",
   "id": "a9666c4f",
   "metadata": {},
   "source": [
    "### how many events per machine"
   ]
  },
  {
   "cell_type": "code",
   "execution_count": 118,
   "id": "ba13a227",
   "metadata": {},
   "outputs": [
    {
     "name": "stdout",
     "output_type": "stream",
     "text": [
      "('Machine_2', 30836)\n",
      "('Machine_5', 4803)\n",
      "('Machine_4', 2137)\n",
      "('Machine_1', 26761)\n",
      "('Machine_3', 5506)\n",
      "('Machine_0', 27595)\n"
     ]
    }
   ],
   "source": [
    "l = pmsRDD.map(lambda x: (x[0], 1))\\\n",
    "    .reduceByKey(lambda x, y: x+y)\\\n",
    "    .collect()\n",
    "for elem in l:\n",
    "    print(elem)"
   ]
  },
  {
   "cell_type": "markdown",
   "id": "527544ba",
   "metadata": {},
   "source": [
    "### duration of each event as the difference between the actual event and the one right after"
   ]
  },
  {
   "cell_type": "code",
   "execution_count": 119,
   "id": "173666dc",
   "metadata": {},
   "outputs": [
    {
     "data": {
      "text/plain": [
       "[(('Machine_5', datetime.datetime(2018, 3, 14, 18, 1, 34, 287)),\n",
       "  datetime.timedelta(seconds=1765, microseconds=999896)),\n",
       " (('Machine_5', datetime.datetime(2018, 3, 14, 22, 52, 52, 703)),\n",
       "  datetime.timedelta(seconds=901, microseconds=999594)),\n",
       " (('Machine_5', datetime.datetime(2018, 3, 15, 0, 12, 49, 357)),\n",
       "  datetime.timedelta(seconds=304, microseconds=363))]"
      ]
     },
     "execution_count": 119,
     "metadata": {},
     "output_type": "execute_result"
    }
   ],
   "source": [
    "shortRDD = sc.parallelize(pmsRDD.take(2000))\n",
    "shortRDD.join(shortRDD)\\\n",
    "    .map(lambda x: ((x[0], x[1][0][0]), x[1][1][0]))\\\n",
    "    .filter(lambda x: x[1]> x[0][1])\\\n",
    "    .map(lambda x: ((x[0][0], x[0][1]), x[1]- x[0][1]))\\\n",
    "    .reduceByKey(lambda x, y: x if x < y else y)\\\n",
    "    .take(3)"
   ]
  },
  {
   "cell_type": "markdown",
   "id": "7ea09a94",
   "metadata": {},
   "source": [
    "## STATUS NAME"
   ]
  },
  {
   "cell_type": "code",
   "execution_count": 120,
   "id": "6fa542ee",
   "metadata": {},
   "outputs": [],
   "source": [
    "snRDD = sc.textFile('statusName.csv')"
   ]
  },
  {
   "cell_type": "code",
   "execution_count": 121,
   "id": "09b7980b",
   "metadata": {},
   "outputs": [
    {
     "data": {
      "text/plain": [
       "'StatusID,StatusName,StatusType,Timestamp'"
      ]
     },
     "execution_count": 121,
     "metadata": {},
     "output_type": "execute_result"
    }
   ],
   "source": [
    "header = snRDD.first()\n",
    "header"
   ]
  },
  {
   "cell_type": "markdown",
   "id": "d637a789",
   "metadata": {},
   "source": [
    "### dictionary"
   ]
  },
  {
   "cell_type": "code",
   "execution_count": 122,
   "id": "0b8673ce",
   "metadata": {},
   "outputs": [
    {
     "data": {
      "text/plain": [
       "[{'StatusID': '14',\n",
       "  'StatusName': '14-MancanzaMaterDaFornit',\n",
       "  'StatusType': '1',\n",
       "  'Timestamp': '2019-01-14T22:58:31.579Z'},\n",
       " {'StatusID': '21',\n",
       "  'StatusName': '21-Guasto Etic/LaserMark',\n",
       "  'StatusType': '1',\n",
       "  'Timestamp': '2019-01-14T22:58:32.032Z'},\n",
       " {'StatusID': '23',\n",
       "  'StatusName': '23-GuastoAOIpostserigr3D',\n",
       "  'StatusType': '1',\n",
       "  'Timestamp': '2019-01-14T22:58:32.032Z'}]"
      ]
     },
     "execution_count": 122,
     "metadata": {},
     "output_type": "execute_result"
    }
   ],
   "source": [
    "snRDD = snRDD.filter(lambda x: x!=header)\n",
    "snRDD = snRDD.map(lambda x: x.split(','))\\\n",
    "    .map(lambda x: {\n",
    "    'StatusID': x[0],\n",
    "    'StatusName': x[1],\n",
    "    'StatusType': x[2],\n",
    "    'Timestamp': x[3]\n",
    "})\n",
    "snRDD.take(3)"
   ]
  },
  {
   "cell_type": "markdown",
   "id": "978c60c2",
   "metadata": {},
   "source": [
    "## join"
   ]
  },
  {
   "cell_type": "code",
   "execution_count": 130,
   "id": "de7ba69d",
   "metadata": {},
   "outputs": [
    {
     "data": {
      "text/plain": [
       "('Machine_4', (datetime.datetime(2018, 3, 11, 16, 13, 51, 180), '3'))"
      ]
     },
     "execution_count": 130,
     "metadata": {},
     "output_type": "execute_result"
    }
   ],
   "source": [
    "newMsRDD = pmsRDD.map(lambda x: (x[1][1], (x[0], x[1][0])))\n",
    "pmsRDD.first()"
   ]
  },
  {
   "cell_type": "code",
   "execution_count": null,
   "id": "e1d9e5b6",
   "metadata": {},
   "outputs": [],
   "source": [
    "newSnRDD = snRDD.map(lambda x: (x['StatusID'], (x['StatusName'], x['StatusType'], x['Timestamp'])))\\\n",
    "                .mapValues(lambda x: (x[0], x[1], format_date(x[2])))\n",
    "\n",
    "#joinedRDD = newMsRDD.join(newSnRDD)\n",
    "\n",
    "newMsRDD.first()"
   ]
  }
 ],
 "metadata": {
  "kernelspec": {
   "display_name": "Python 3 (ipykernel)",
   "language": "python",
   "name": "python3"
  },
  "language_info": {
   "codemirror_mode": {
    "name": "ipython",
    "version": 3
   },
   "file_extension": ".py",
   "mimetype": "text/x-python",
   "name": "python",
   "nbconvert_exporter": "python",
   "pygments_lexer": "ipython3",
   "version": "3.9.10"
  }
 },
 "nbformat": 4,
 "nbformat_minor": 5
}
