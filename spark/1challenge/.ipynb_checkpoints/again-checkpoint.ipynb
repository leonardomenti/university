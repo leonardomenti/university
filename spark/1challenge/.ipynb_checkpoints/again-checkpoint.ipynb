{
 "cells": [
  {
   "cell_type": "code",
   "execution_count": 216,
   "id": "69ad8d7b",
   "metadata": {},
   "outputs": [],
   "source": [
    "import pandas\n",
    "from math import ceil"
   ]
  },
  {
   "cell_type": "code",
   "execution_count": 217,
   "id": "7b8d9cf9",
   "metadata": {},
   "outputs": [],
   "source": [
    "rdd = sc.textFile(\"logDataset.csv\")\n",
    "\n",
    "header = rdd.first()\n",
    "\n",
    "rdd = rdd.filter(lambda x: x!=header)"
   ]
  },
  {
   "cell_type": "code",
   "execution_count": 218,
   "id": "ec471837",
   "metadata": {},
   "outputs": [],
   "source": [
    "key = \"CompID\"\n",
    "value = \"Milliseconds\"\n",
    "\n",
    "index_key = header.split(\",\").index(key)\n",
    "index_val = header.split(\",\").index(value)"
   ]
  },
  {
   "cell_type": "markdown",
   "id": "e8e7016e",
   "metadata": {},
   "source": [
    "### MEAN"
   ]
  },
  {
   "cell_type": "code",
   "execution_count": 219,
   "id": "7d9caebb",
   "metadata": {},
   "outputs": [],
   "source": [
    "def formatdata(row):\n",
    "    l = row.split(\",\")\n",
    "    return (float(l[index_val]),1)"
   ]
  },
  {
   "cell_type": "code",
   "execution_count": 220,
   "id": "44ed3a2d",
   "metadata": {},
   "outputs": [
    {
     "name": "stdout",
     "output_type": "stream",
     "text": [
      "Spark Mean: 513.706432748538\n"
     ]
    }
   ],
   "source": [
    "res = rdd.map(formatdata).reduce(lambda x, y: (x[0]+y[0], x[1]+y[1]))\n",
    "print(\"Spark Mean:\", res[0]/res[1])"
   ]
  },
  {
   "cell_type": "markdown",
   "id": "c8d53307",
   "metadata": {},
   "source": [
    "### MEDIAN"
   ]
  },
  {
   "cell_type": "code",
   "execution_count": 221,
   "id": "dacfa705",
   "metadata": {},
   "outputs": [],
   "source": [
    "def getValue(row):\n",
    "    l = row.split(\",\")\n",
    "    return int(l[index_val])"
   ]
  },
  {
   "cell_type": "code",
   "execution_count": 222,
   "id": "74077ae8",
   "metadata": {},
   "outputs": [],
   "source": [
    "middle = ceil(rdd.count()/2)"
   ]
  },
  {
   "cell_type": "code",
   "execution_count": 223,
   "id": "50f2c9e6",
   "metadata": {},
   "outputs": [
    {
     "name": "stdout",
     "output_type": "stream",
     "text": [
      "Spark Median:  505\n"
     ]
    }
   ],
   "source": [
    "res = rdd.map(getValue)\\\n",
    ".sortBy(lambda x: x)\\\n",
    ".zipWithIndex()\\\n",
    ".filter(lambda x: x[1]==middle)\n",
    "\n",
    "print(\"Spark Median: \", res.first()[0])"
   ]
  },
  {
   "cell_type": "markdown",
   "id": "e52da520",
   "metadata": {},
   "source": [
    "### TEST"
   ]
  },
  {
   "cell_type": "code",
   "execution_count": 224,
   "id": "f29f32c7",
   "metadata": {},
   "outputs": [],
   "source": [
    "df = pandas.read_csv(\"logDataset.csv\")\n",
    "size = len(df.index)"
   ]
  },
  {
   "cell_type": "code",
   "execution_count": 225,
   "id": "3409aa4b",
   "metadata": {},
   "outputs": [
    {
     "name": "stdout",
     "output_type": "stream",
     "text": [
      "Pandas Mean:  513.706432748538\n",
      "Pandas Median:  505.0\n"
     ]
    }
   ],
   "source": [
    "values = df[value]\n",
    "print(\"Pandas Mean: \",values.mean())\n",
    "print(\"Pandas Median: \", values.median())"
   ]
  }
 ],
 "metadata": {
  "kernelspec": {
   "display_name": "Python 3 (ipykernel)",
   "language": "python",
   "name": "python3"
  },
  "language_info": {
   "codemirror_mode": {
    "name": "ipython",
    "version": 3
   },
   "file_extension": ".py",
   "mimetype": "text/x-python",
   "name": "python",
   "nbconvert_exporter": "python",
   "pygments_lexer": "ipython3",
   "version": "3.9.7"
  }
 },
 "nbformat": 4,
 "nbformat_minor": 5
}
