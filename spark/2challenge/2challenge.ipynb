{
 "cells": [
  {
   "cell_type": "markdown",
   "id": "aeb6ea89",
   "metadata": {},
   "source": [
    "# Architectures For Big Data\n",
    "## Second Challenge\n",
    "\n",
    "### Valerio Cislaghi (mat. 982330)\n",
    "### Leonardo Menti (mat. 982296)"
   ]
  },
  {
   "cell_type": "code",
   "execution_count": 1,
   "id": "b7b9900d",
   "metadata": {},
   "outputs": [],
   "source": [
    "from operator import add\n",
    "from math import sqrt\n",
    "import matplotlib.pylab as plt"
   ]
  },
  {
   "cell_type": "code",
   "execution_count": 2,
   "id": "f742bcb8",
   "metadata": {},
   "outputs": [],
   "source": [
    "path_files = 'books'\n",
    "def get_path(file):\n",
    "    return f\"{path_files}/{file}\"         \n",
    "\n",
    "# choose a book\n",
    "interested_book = \"Iron-Man.txt\"\n",
    "books_to_compare = {\n",
    "    'Avengers.txt',\n",
    "    'Dickens-Great-Expectations.txt',\n",
    "    'Dickens-Some-Christmas-Stories.txt',\n",
    "    'Dickens-Three-Ghost-Stories.txt',\n",
    "    'Divina-Commedia.txt',\n",
    "    'Doctor-Strange.txt',\n",
    "    'Harry-Potter1.txt',\n",
    "    'Iron-Man2.txt',\n",
    "    'Iron-Man3.txt',\n",
    "    'Odissea.txt',\n",
    "    'The-Hunger-Games-Catching-Fire.txt',\n",
    "    'The-Hunger-Games-Mockingjay-part1.txt',\n",
    "    'The-Hunger-Games-Mockingjay-part2.txt',\n",
    "    'The-Hunger-Games.txt',\n",
    "    'Thor.txt'\n",
    "}"
   ]
  },
  {
   "cell_type": "markdown",
   "id": "2480e6b4",
   "metadata": {},
   "source": [
    "### Cosine Similarity\n"
   ]
  },
  {
   "cell_type": "code",
   "execution_count": 6,
   "id": "f8456bca",
   "metadata": {},
   "outputs": [
    {
     "data": {
      "text/plain": [
       "[('Iron-Man2.txt', 0.9810343517633136),\n",
       " ('Iron-Man3.txt', 0.9696692493238397),\n",
       " ('Thor.txt', 0.9036920349138693),\n",
       " ('Avengers.txt', 0.8830508375853394),\n",
       " ('Doctor-Strange.txt', 0.8762529136875805),\n",
       " ('The-Hunger-Games-Mockingjay-part1.txt', 0.7420233702509759),\n",
       " ('The-Hunger-Games-Mockingjay-part2.txt', 0.7400838854139032),\n",
       " ('The-Hunger-Games-Catching-Fire.txt', 0.7395056197497382),\n",
       " ('The-Hunger-Games.txt', 0.7318269718395928),\n",
       " ('Dickens-Great-Expectations.txt', 0.7205429404082178),\n",
       " ('Dickens-Three-Ghost-Stories.txt', 0.6979439940781341),\n",
       " ('Dickens-Some-Christmas-Stories.txt', 0.681767018298136),\n",
       " ('Lord-Of-The-Rings2.txt', 0.669880045067751),\n",
       " ('Lord-Of-The-Rings1.txt', 0.6654295199185915),\n",
       " ('Harry-Potter1.txt', 0.6632191884534964),\n",
       " ('Lord-Of-The-Rings3.txt', 0.6427541632266812),\n",
       " ('Odissea.txt', 0.12218817092228478),\n",
       " ('Divina-Commedia.txt', 0.09187994758357099)]"
      ]
     },
     "execution_count": 6,
     "metadata": {},
     "output_type": "execute_result"
    }
   ],
   "source": [
    "def cosine_factory(text1_path):\n",
    "    rdd1 = sc.textFile(text1_path)\\\n",
    "        .flatMap(str.split)\\\n",
    "        .map(lambda x: (x.lower(),1))\\\n",
    "        .reduceByKey(add)\n",
    "    \n",
    "    def cosine_factory_aux(text2_path):\n",
    "        rdd2 = sc.textFile(text2_path)\\\n",
    "            .flatMap(str.split)\\\n",
    "            .map(lambda x: (x.lower(),1))\\\n",
    "            .reduceByKey(add)\n",
    "        \n",
    "        num = rdd1.join(rdd2).mapValues(lambda x: x[0] * x[1]).values().sum()\n",
    "\n",
    "        den_couple = rdd1\\\n",
    "            .fullOuterJoin(rdd2)\\\n",
    "            .values()\\\n",
    "            .map(lambda x: (pow(x[0], 2) if x[0] != None else 0 , pow(x[1],2) if x[1] != None else 0))\\\n",
    "            .reduce(lambda acc, x: (acc[0] + x[0], acc[1] + x[1]))\n",
    "\n",
    "        den = sqrt(den_couple[0] * den_couple[1])\n",
    "        res = num/den\n",
    "        return res\n",
    "    return cosine_factory_aux\n",
    "\n",
    "cosine_fun = cosine_factory(get_path(interested_book))\n",
    "\n",
    "books = os.listdir(path_files)\n",
    "books.remove(interested_book)\n",
    "\n",
    "similarities = {file_name : cosine_fun(get_path(file_name)) for file_name in books }\n",
    "\n",
    "sorted(similarities.items(), key=lambda x:x[1], reverse=True)"
   ]
  },
  {
   "cell_type": "markdown",
   "id": "9da06210",
   "metadata": {},
   "source": [
    "### Histogram"
   ]
  },
  {
   "cell_type": "code",
   "execution_count": 4,
   "id": "60aaa035",
   "metadata": {},
   "outputs": [
    {
     "name": "stdout",
     "output_type": "stream",
     "text": [
      "1 : 1990\n",
      "2 : 436\n",
      "3 : 141\n",
      "4 : 64\n",
      "5 : 55\n",
      "6 : 39\n",
      "7 : 20\n",
      "8 : 26\n",
      "9 : 16\n",
      "10 : 14\n",
      "11 : 10\n",
      "12 : 5\n",
      "13 : 10\n",
      "14 : 13\n",
      "15 : 10\n",
      "16 : 9\n",
      "17 : 7\n",
      "18 : 4\n",
      "19 : 4\n",
      "20 : 4\n",
      "21 : 4\n",
      "22 : 4\n",
      "23 : 2\n",
      "24 : 6\n",
      "25 : 3\n",
      "26 : 1\n",
      "27 : 4\n",
      "30 : 5\n",
      "31 : 3\n",
      "32 : 2\n",
      "33 : 3\n",
      "38 : 1\n",
      "41 : 1\n",
      "44 : 3\n",
      "48 : 3\n",
      "49 : 1\n",
      "50 : 1\n",
      "54 : 2\n",
      "55 : 1\n",
      "56 : 1\n",
      "57 : 2\n",
      "59 : 3\n",
      "62 : 1\n",
      "64 : 1\n",
      "73 : 1\n",
      "75 : 1\n",
      "81 : 1\n",
      "89 : 1\n",
      "98 : 1\n",
      "102 : 1\n",
      "106 : 1\n",
      "137 : 1\n",
      "227 : 1\n",
      "234 : 1\n",
      "246 : 1\n",
      "272 : 1\n",
      "295 : 1\n",
      "440 : 1\n"
     ]
    }
   ],
   "source": [
    "rdd = sc.textFile(get_path('Iron-Man.txt'))\\\n",
    "    .flatMap(str.split)\n",
    "\n",
    "res = rdd.map(lambda x: (x, 1))\\\n",
    "    .reduceByKey(add)\\\n",
    "    .map(lambda x: (x[1], 1))\\\n",
    "    .reduceByKey(add)\\\n",
    "    .sortByKey()\\\n",
    "    .collect()\n",
    "for key, value in res:\n",
    "    print(key, ':', value)"
   ]
  },
  {
   "cell_type": "code",
   "execution_count": 5,
   "id": "d1e1793e",
   "metadata": {},
   "outputs": [
    {
     "data": {
      "image/png": "[encoded data removed]",
      "text/plain": [
       "<Figure size 432x288 with 1 Axes>"
      ]
     },
     "metadata": {
      "needs_background": "light"
     },
     "output_type": "display_data"
    }
   ],
   "source": [
    "x, y = zip(*res[2:20])\n",
    "plt.bar(x, y, align='center')\n",
    "plt.xticks(x)\n",
    "plt.show()"
   ]
  }
 ],
 "metadata": {
  "kernelspec": {
   "display_name": "Python 3 (ipykernel)",
   "language": "python",
   "name": "python3"
  },
  "language_info": {
   "codemirror_mode": {
    "name": "ipython",
    "version": 3
   },
   "file_extension": ".py",
   "mimetype": "text/x-python",
   "name": "python",
   "nbconvert_exporter": "python",
   "pygments_lexer": "ipython3",
   "version": "3.9.7"
  }
 },
 "nbformat": 4,
 "nbformat_minor": 5
}
