{
 "cells": [
  {
   "cell_type": "markdown",
   "id": "aeb6ea89",
   "metadata": {},
   "source": [
    "# Architectures For Big Data\n",
    "## Second Challenge\n",
    "\n",
    "### Valerio Cislaghi (mat. 982330)\n",
    "### Leonardo Menti (mat. 982296)"
   ]
  },
  {
   "cell_type": "code",
   "execution_count": 1,
   "id": "b7b9900d",
   "metadata": {},
   "outputs": [],
   "source": [
    "from operator import add\n",
    "from math import sqrt\n"
   ]
  },
  {
   "cell_type": "markdown",
   "id": "2480e6b4",
   "metadata": {},
   "source": [
    "### Cosine Similarity\n"
   ]
  },
  {
   "cell_type": "code",
   "execution_count": 2,
   "id": "f8456bca",
   "metadata": {},
   "outputs": [
    {
     "data": {
      "text/plain": [
       "0.7559289460184544"
      ]
     },
     "execution_count": 2,
     "metadata": {},
     "output_type": "execute_result"
    }
   ],
   "source": [
    "d1 = \"I Like this wolf\"\n",
    "d2 = \"He likes this wolf\"\n",
    "d3 = \"I ate something like this wolf steak\"\n",
    "\n",
    "rdd1 = sc.parallelize(d1.split(\" \"))\\\n",
    "    .map(lambda x: (x.lower(),1))\\\n",
    "    .reduceByKey(add)\n",
    "    \n",
    "rdd2 = sc.parallelize(d3.split(\" \"))\\\n",
    "    .map(lambda x: (x.lower(),1))\\\n",
    "    .reduceByKey(add)\n",
    "\n",
    "\n",
    "num = rdd1.join(rdd2).mapValues(lambda x: x[0] * x[1]).values().sum()\n",
    "#den = sqrt(rdd1.mapValues(lambda x: pow(x, 2)).values().sum()) * sqrt(rdd2.mapValues(lambda x: pow(x, 2)).values().sum())\n",
    "\n",
    "_den = rdd1\\\n",
    "    .fullOuterJoin(rdd2)\\\n",
    "    .values()\\\n",
    "    .map(lambda x: (pow(x[0], 2) if x[0] != None else 0 , pow(x[1],2) if x[1] != None else 0))\\\n",
    "    .reduce(lambda acc, x: (acc[0] + x[0], acc[1] + x[1]))\n",
    "\n",
    "den = sqrt(_den[0]*_den[1])\n",
    "num/den"
   ]
  },
  {
   "cell_type": "markdown",
   "id": "9da06210",
   "metadata": {},
   "source": [
    "### Histogram"
   ]
  },
  {
   "cell_type": "code",
   "execution_count": 3,
   "id": "60aaa035",
   "metadata": {},
   "outputs": [
    {
     "name": "stdout",
     "output_type": "stream",
     "text": [
      "1    **\n",
      "3    *\n",
      "4    *\n"
     ]
    },
    {
     "data": {
      "text/plain": [
       "[(1, 2), (3, 1), (4, 1)]"
      ]
     },
     "execution_count": 3,
     "metadata": {},
     "output_type": "execute_result"
    }
   ],
   "source": [
    "ls = [2, 2, 3, 4, 5, 4, 2, 2, 4]\n",
    "\n",
    "rdd = sc.parallelize(ls)\n",
    "res = rdd.map(lambda x: (x, 1))\\\n",
    "    .reduceByKey(add)\\\n",
    "    .map(lambda x: (x[1], 1))\\\n",
    "    .reduceByKey(add)\\\n",
    "    .collect()\n",
    "for key, value in res:\n",
    "    print(key, '  ', '*'*value)\n",
    "\n",
    "res"
   ]
  }
 ],
 "metadata": {
  "kernelspec": {
   "display_name": "Python 3 (ipykernel)",
   "language": "python",
   "name": "python3"
  },
  "language_info": {
   "codemirror_mode": {
    "name": "ipython",
    "version": 3
   },
   "file_extension": ".py",
   "mimetype": "text/x-python",
   "name": "python",
   "nbconvert_exporter": "python",
   "pygments_lexer": "ipython3",
   "version": "3.9.7"
  }
 },
 "nbformat": 4,
 "nbformat_minor": 5
}
