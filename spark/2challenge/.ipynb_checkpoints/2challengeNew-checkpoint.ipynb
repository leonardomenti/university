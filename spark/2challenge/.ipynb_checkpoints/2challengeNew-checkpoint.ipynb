{
 "cells": [
  {
   "cell_type": "markdown",
   "id": "aeb6ea89",
   "metadata": {},
   "source": [
    "# Architectures For Big Data\n",
    "## Second Challenge\n",
    "\n",
    "### Valerio Cislaghi (mat. 982330)\n",
    "### Leonardo Menti (mat. 982296)"
   ]
  },
  {
   "cell_type": "code",
   "execution_count": 1,
   "id": "b7b9900d",
   "metadata": {},
   "outputs": [],
   "source": [
    "from operator import add\n",
    "from math import sqrt\n",
    "import matplotlib.pylab as plt\n",
    "from functools import reduce"
   ]
  },
  {
   "cell_type": "code",
   "execution_count": 2,
   "id": "f742bcb8",
   "metadata": {},
   "outputs": [],
   "source": [
    "path_files = 'books'\n",
    "def get_path(file):\n",
    "    return f\"{path_files}/{file}\"         \n",
    "\n",
    "# choose a book\n",
    "interested_book = \"Iron-Man.txt\"\n",
    "books_to_compare = {\n",
    "    'Avengers.txt',\n",
    "    'Dickens-Great-Expectations.txt',\n",
    "    'Dickens-Some-Christmas-Stories.txt',\n",
    "    'Dickens-Three-Ghost-Stories.txt',\n",
    "    'Divina-Commedia.txt',\n",
    "    'Doctor-Strange.txt',\n",
    "    'Harry-Potter1.txt',\n",
    "    'Iron-Man2.txt',\n",
    "    'Iron-Man3.txt',\n",
    "    'Odissea.txt',\n",
    "    'The-Hunger-Games-Catching-Fire.txt',\n",
    "    'The-Hunger-Games-Mockingjay-part1.txt',\n",
    "    'The-Hunger-Games-Mockingjay-part2.txt',\n",
    "    'The-Hunger-Games.txt',\n",
    "    'Thor.txt'\n",
    "}"
   ]
  },
  {
   "cell_type": "markdown",
   "id": "2480e6b4",
   "metadata": {},
   "source": [
    "### Cosine Similarity\n"
   ]
  },
  {
   "cell_type": "code",
   "execution_count": 13,
   "id": "3511b2b1",
   "metadata": {},
   "outputs": [],
   "source": [
    "def book_to_rdd(path, name):\n",
    "    clean_s = lambda s: ''.join([c.lower() for c in s if c.isalpha()])\n",
    "    return sc.textFile(path)\\\n",
    "        .flatMap(str.split)\\\n",
    "        .map(clean_s)\\\n",
    "        .filter(lambda s : s != \"\")\\\n",
    "        .map(lambda s : (s, 1))\\\n",
    "        .reduceByKey(add)\\\n",
    "        .map(lambda s : (s[0], (name, s[1])))"
   ]
  },
  {
   "cell_type": "code",
   "execution_count": null,
   "id": "db5397ff",
   "metadata": {},
   "outputs": [],
   "source": [
    "book_rdd = book_to_rdd(get_path(interested_book), interested_book)\n",
    "others_books_rdd = reduce(lambda rdd, it: rdd.union(it), [book_to_rdd(get_path(b), b) for b in books_to_compare])\n",
    "_ = others_books_rdd.persist()\n",
    "others_books_rdd.take(5)"
   ]
  },
  {
   "cell_type": "code",
   "execution_count": null,
   "id": "cc0aff95",
   "metadata": {},
   "outputs": [],
   "source": [
    "num_rdd = others_books_rdd.join(book_rdd)\\\n",
    "    .map(lambda s : ((s[1][0][0], s[1][1][0]), s[1][0][1] * s[1][1][1]))\\\n",
    "    .reduceByKey(add)\n",
    "num_rdd.take(3)"
   ]
  },
  {
   "cell_type": "code",
   "execution_count": 22,
   "id": "fa570e6d",
   "metadata": {},
   "outputs": [
    {
     "name": "stdout",
     "output_type": "stream",
     "text": [
      "CPU times: user 75.5 ms, sys: 77.2 ms, total: 153 ms\n",
      "Wall time: 3.14 s\n"
     ]
    },
    {
     "data": {
      "text/plain": [
       "[(('Iron-Man2.txt', 'Iron-Man.txt'), 0.978025672986836),\n",
       " (('Iron-Man3.txt', 'Iron-Man.txt'), 0.9728797526285717),\n",
       " (('Avengers.txt', 'Iron-Man.txt'), 0.9612386234665498),\n",
       " (('Thor.txt', 'Iron-Man.txt'), 0.9439191587197533),\n",
       " (('Doctor-Strange.txt', 'Iron-Man.txt'), 0.9423633104068889),\n",
       " (('The-Hunger-Games-Mockingjay-part1.txt', 'Iron-Man.txt'),\n",
       "  0.8341610856677115),\n",
       " (('The-Hunger-Games-Mockingjay-part2.txt', 'Iron-Man.txt'),\n",
       "  0.8288737709272557),\n",
       " (('The-Hunger-Games.txt', 'Iron-Man.txt'), 0.825340461848997),\n",
       " (('The-Hunger-Games-Catching-Fire.txt', 'Iron-Man.txt'), 0.8250662443250989),\n",
       " (('Dickens-Great-Expectations.txt', 'Iron-Man.txt'), 0.8184342491423195),\n",
       " (('Dickens-Three-Ghost-Stories.txt', 'Iron-Man.txt'), 0.7800673094391476),\n",
       " (('Dickens-Some-Christmas-Stories.txt', 'Iron-Man.txt'), 0.7631399767147871),\n",
       " (('Harry-Potter1.txt', 'Iron-Man.txt'), 0.7593547435786423),\n",
       " (('Odissea.txt', 'Iron-Man.txt'), 0.13193309081610907),\n",
       " (('Divina-Commedia.txt', 'Iron-Man.txt'), 0.10294836087966917)]"
      ]
     },
     "execution_count": 22,
     "metadata": {},
     "output_type": "execute_result"
    }
   ],
   "source": [
    "#%%time\n",
    "\n",
    "den_others_rdd = others_books_rdd.map(lambda s : (s[1][0], s[1][1]**2))\\\n",
    "    .reduceByKey(add)\\\n",
    "    .mapValues(sqrt)\n",
    "\n",
    "den_book_rdd = book_rdd.map(lambda s : (s[1][0], pow(s[1][1], 2)))\\\n",
    "    .reduceByKey(add)\\\n",
    "    .mapValues(sqrt)\n",
    "\n",
    "den_rdd = den_others_rdd.cartesian(den_book_rdd)\\\n",
    "    .map(lambda s : ((s[0][0], s[1][0]), s[0][1] * s[1][1]))\n",
    "    \n",
    "\n",
    "num_rdd.join(den_rdd)\\\n",
    "    .mapValues(lambda x : x[0]/x[1])\\\n",
    "    .sortBy(lambda s : -s[1])\\\n",
    "    .collect()\n"
   ]
  },
  {
   "cell_type": "markdown",
   "id": "a2ada0df",
   "metadata": {},
   "source": [
    "## OLD"
   ]
  },
  {
   "cell_type": "code",
   "execution_count": 24,
   "id": "f8456bca",
   "metadata": {},
   "outputs": [
    {
     "name": "stdout",
     "output_type": "stream",
     "text": [
      "CPU times: user 440 ms, sys: 384 ms, total: 825 ms\n",
      "Wall time: 7.54 s\n"
     ]
    },
    {
     "data": {
      "text/plain": [
       "[('Iron-Man2.txt', 0.978025672986836),\n",
       " ('Iron-Man3.txt', 0.9728797526285717),\n",
       " ('Avengers.txt', 0.9612386234665498),\n",
       " ('Thor.txt', 0.9439191587197534),\n",
       " ('Doctor-Strange.txt', 0.9423633104068889),\n",
       " ('The-Hunger-Games-Mockingjay-part1.txt', 0.8341610856677116),\n",
       " ('The-Hunger-Games-Mockingjay-part2.txt', 0.8288737709272557),\n",
       " ('The-Hunger-Games.txt', 0.825340461848997),\n",
       " ('The-Hunger-Games-Catching-Fire.txt', 0.8250662443250989),\n",
       " ('Dickens-Great-Expectations.txt', 0.8184342491423195),\n",
       " ('Dickens-Three-Ghost-Stories.txt', 0.7800673094391476),\n",
       " ('Dickens-Some-Christmas-Stories.txt', 0.7631399767147872),\n",
       " ('Lord-Of-The-Rings2.txt', 0.7594482048152025),\n",
       " ('Harry-Potter1.txt', 0.7593547435786424),\n",
       " ('Lord-Of-The-Rings1.txt', 0.7532440074725739),\n",
       " ('Lord-Of-The-Rings3.txt', 0.7260220960076174),\n",
       " ('Odissea.txt', 0.13193309081610907),\n",
       " ('Divina-Commedia.txt', 0.10294836087966917)]"
      ]
     },
     "execution_count": 24,
     "metadata": {},
     "output_type": "execute_result"
    }
   ],
   "source": [
    "\n",
    "def cosine_factory(text1_path):\n",
    "    clean_s = lambda s: ''.join([c.lower() for c in s if c.isalpha()])\n",
    "    rdd1 = sc.textFile(text1_path)\\\n",
    "        .flatMap(str.split)\\\n",
    "        .map(lambda x: (clean_s(x),1))\\\n",
    "        .filter(lambda s : s[0] != '')\\\n",
    "        .reduceByKey(add)\n",
    "    \n",
    "    def cosine_factory_aux(text2_path):\n",
    "        rdd2 = sc.textFile(text2_path)\\\n",
    "            .flatMap(str.split)\\\n",
    "            .map(lambda x: (clean_s(x),1))\\\n",
    "            .filter(lambda s : s[0] != '')\\\n",
    "            .reduceByKey(add)\n",
    "                \n",
    "        num = rdd1.join(rdd2).mapValues(lambda x: x[0] * x[1]).values().sum()\n",
    "        den_couple = rdd1\\\n",
    "            .fullOuterJoin(rdd2)\\\n",
    "            .values()\\\n",
    "            .map(lambda x: (pow(x[0], 2) if x[0] != None else 0 , pow(x[1],2) if x[1] != None else 0))\\\n",
    "            .reduce(lambda acc, x: (acc[0] + x[0], acc[1] + x[1]))\n",
    "\n",
    "        den = sqrt(den_couple[0] * den_couple[1])\n",
    "        res = num/den\n",
    "        return res\n",
    "    return cosine_factory_aux\n",
    "\n",
    "cosine_fun = cosine_factory(get_path(interested_book))\n",
    "\n",
    "books = os.listdir(path_files)\n",
    "books.remove(interested_book)\n",
    "\n",
    "similarities = {file_name : cosine_fun(get_path(file_name)) for file_name in books }\n",
    "\n",
    "sorted(similarities.items(), key=lambda x:x[1], reverse=True)"
   ]
  },
  {
   "cell_type": "markdown",
   "id": "9da06210",
   "metadata": {},
   "source": [
    "### Histogram"
   ]
  },
  {
   "cell_type": "code",
   "execution_count": null,
   "id": "60aaa035",
   "metadata": {},
   "outputs": [],
   "source": [
    "rdd = sc.textFile(get_path('Iron-Man.txt'))\\\n",
    "    .flatMap(str.split)\n",
    "\n",
    "res = rdd.map(lambda x: (x, 1))\\\n",
    "    .reduceByKey(add)\\\n",
    "    .map(lambda x: (x[1], 1))\\\n",
    "    .reduceByKey(add)\\\n",
    "    .sortByKey()\\\n",
    "    .collect()\n",
    "for key, value in res:\n",
    "    print(key, ':', value)"
   ]
  },
  {
   "cell_type": "code",
   "execution_count": null,
   "id": "d1e1793e",
   "metadata": {},
   "outputs": [],
   "source": [
    "x, y = zip(*res[2:20])\n",
    "plt.bar(x, y, align='center')\n",
    "plt.xticks(x)\n",
    "plt.show()"
   ]
  }
 ],
 "metadata": {
  "kernelspec": {
   "display_name": "Python 3 (ipykernel)",
   "language": "python",
   "name": "python3"
  },
  "language_info": {
   "codemirror_mode": {
    "name": "ipython",
    "version": 3
   },
   "file_extension": ".py",
   "mimetype": "text/x-python",
   "name": "python",
   "nbconvert_exporter": "python",
   "pygments_lexer": "ipython3",
   "version": "3.9.7"
  }
 },
 "nbformat": 4,
 "nbformat_minor": 5
}
